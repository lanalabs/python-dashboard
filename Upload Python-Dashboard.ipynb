{
 "cells": [
  {
   "cell_type": "markdown",
   "source": [
    "## General Python Code"
   ],
   "metadata": {}
  },
  {
   "cell_type": "code",
   "execution_count": 2,
   "source": [
    "import requests\n",
    "from pathlib import Path\n",
    "import pylana\n",
    "\n",
    "api_key_cloud = \"684aeb64097741bfa66a20712e36a11e\"\n",
    "\n",
    "api_key = api_key_cloud\n",
    "url = \"https://cloud-backend.lanalabs.com\"\n",
    "scheme = \"https\",\n",
    "host = \"cloud-backend.lanalabs.com\""
   ],
   "outputs": [],
   "metadata": {}
  },
  {
   "cell_type": "code",
   "execution_count": 3,
   "source": [
    "def create_custom_python_dashboard(api_key, dashboard_name):\n",
    "    payload = {\n",
    "        'name': dashboard_name,\n",
    "        'type': 'python_dashboard'\n",
    "    }\n",
    "\n",
    "    r = requests.post(\n",
    "        f'{url}/api/v2/custom-dashboards',\n",
    "        headers={'API-Key': api_key},\n",
    "        json=payload\n",
    "    )\n",
    "\n",
    "    return r.json()"
   ],
   "outputs": [],
   "metadata": {}
  },
  {
   "cell_type": "code",
   "execution_count": 4,
   "source": [
    "def get_python_dashboards(api_key):\n",
    "    r = requests.get(\n",
    "        f'{url}/api/v2/custom-dashboards/',\n",
    "        headers={'API-Key': api_key},\n",
    "        )\n",
    "    return r.json()"
   ],
   "outputs": [],
   "metadata": {}
  },
  {
   "cell_type": "code",
   "execution_count": 5,
   "source": [
    "def upload_python_dashboard_app(api_key, dashboard_id, python_dashboard_file):\n",
    "    filetype = 'application/octet-stream'\n",
    "    filename = Path(python_dashboard_file).name\n",
    "\n",
    "    python_app = [\n",
    "        ('file', (filename, open(python_dashboard_file, 'rb'), filetype))\n",
    "    ]\n",
    "\n",
    "    r = requests.post(\n",
    "        f'{url}/api/v2/custom-dashboards/{dashboard_id}/source',\n",
    "        headers={'API-Key': api_key},\n",
    "        files=python_app\n",
    "    )\n",
    "\n",
    "    return r"
   ],
   "outputs": [],
   "metadata": {}
  },
  {
   "cell_type": "code",
   "execution_count": 6,
   "source": [
    "def connect_dashboard_app_to_log(api_key, log_id, dashboard_id):\n",
    "    payload = {\n",
    "        'log_id': log_id,\n",
    "        'custom_dashboard_id': dashboard_id\n",
    "    }\n",
    "\n",
    "    r = requests.post(\n",
    "        f'{url}/api/v2/resource-connections',\n",
    "        headers={'API-Key': api_key},\n",
    "        json=payload\n",
    "    )\n",
    "\n",
    "    return r.json()"
   ],
   "outputs": [],
   "metadata": {}
  },
  {
   "cell_type": "markdown",
   "source": [
    "## Uploading new  Python-Dashboard"
   ],
   "metadata": {}
  },
  {
   "cell_type": "code",
   "execution_count": 9,
   "source": [
    "log_id = \"70d5b7ae-42d2-4196-9a26-a313d3d717ff\"\n",
    "dashboard_name = \"Thomas Python Dashboard\"\n",
    "python_dashboard_file = \"./dashboard/myDashboard.zip\"\n",
    "\n",
    "dashboard_info = create_custom_python_dashboard(api_key, dashboard_name)\n",
    "dashboard_id = dashboard_info[\"id\"]\n",
    "print(f\"Dashboard_id: {dashboard_id}\")\n",
    "\n",
    "c = upload_python_dashboard_app(api_key, dashboard_id, python_dashboard_file)\n",
    "print(c)\n",
    "\n",
    "connect_dashboard_app_to_log(api_key, log_id, dashboard_id)"
   ],
   "outputs": [
    {
     "output_type": "stream",
     "name": "stdout",
     "text": [
      "Dashboard_id: 80af755f-adfa-42e5-8d5f-32258736f1ae\n",
      "<Response [200]>\n"
     ]
    },
    {
     "output_type": "execute_result",
     "data": {
      "text/plain": [
       "{'connection_id': '5cedac32-5e03-4d02-af98-21a410ea4431',\n",
       " 'lastUpdated': [{'lastUpdate': 1630079363000,\n",
       "   'resourceId': '70d5b7ae-42d2-4196-9a26-a313d3d717ff',\n",
       "   'resourceType': 'log'}]}"
      ]
     },
     "metadata": {},
     "execution_count": 9
    }
   ],
   "metadata": {}
  },
  {
   "cell_type": "code",
   "execution_count": 8,
   "source": [
    "get_python_dashboards(api_key)"
   ],
   "outputs": [
    {
     "output_type": "execute_result",
     "data": {
      "text/plain": [
       "[{'id': '826c87d9-39e6-46a0-ad02-b6785185134f',\n",
       "  'name': 'Thomas Python Dashboard',\n",
       "  'owner': 'a0e50d52-f448-419e-b94f-b4a43050a0fe',\n",
       "  'type': 'python_dashboard'}]"
      ]
     },
     "metadata": {},
     "execution_count": 8
    }
   ],
   "metadata": {}
  },
  {
   "cell_type": "markdown",
   "source": [
    "## Updating the Python-Dashboard via Upload"
   ],
   "metadata": {}
  },
  {
   "cell_type": "code",
   "execution_count": null,
   "source": [
    "python_dashboard_file = \"\"\n",
    "dashboard_id = ''\n",
    "\n",
    "c = upload_python_dashboard_app(api_key, dashboard_id, python_dashboard_file)\n",
    "c"
   ],
   "outputs": [],
   "metadata": {}
  }
 ],
 "metadata": {
  "kernelspec": {
   "name": "python3",
   "display_name": "Python 3.9.5 64-bit ('base': conda)"
  },
  "language_info": {
   "codemirror_mode": {
    "name": "ipython",
    "version": 3
   },
   "file_extension": ".py",
   "mimetype": "text/x-python",
   "name": "python",
   "nbconvert_exporter": "python",
   "pygments_lexer": "ipython3",
   "version": "3.9.5"
  },
  "interpreter": {
   "hash": "22e6ed114599ef3804ec5a5b6131709f8b6d9afb57e780ca90a606abf7455677"
  }
 },
 "nbformat": 4,
 "nbformat_minor": 5
}