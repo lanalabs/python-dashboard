{
 "cells": [
  {
   "cell_type": "markdown",
   "id": "8381a0b7",
   "metadata": {},
   "source": [
    "## General Python Code"
   ]
  },
  {
   "cell_type": "code",
   "execution_count": null,
   "id": "f3c0a9ce",
   "metadata": {},
   "outputs": [],
   "source": [
    "import requests\n",
    "from pathlib import Path\n",
    "import pylana\n",
    "\n",
    "api_key_cloud = \"<Filled_by_user>\"\n",
    "api_key_local = \"<Filled_by_user>\"\n",
    "\n",
    "local = True\n",
    "\n",
    "if local == True:\n",
    "    api_key = api_key_local\n",
    "    scheme = \"http\"\n",
    "    host = \"localhost:4000\"\n",
    "    url = \"http://localhost:4000\"\n",
    "else:\n",
    "    api_key = api_key_cloud\n",
    "    url = \"https://cloud-backend.lanalabs.com\"\n",
    "    scheme = \"https\",\n",
    "    host = \"cloud-backend.lanalabs.com\""
   ]
  },
  {
   "cell_type": "code",
   "execution_count": null,
   "id": "2570caff",
   "metadata": {},
   "outputs": [],
   "source": [
    "def create_custom_python_dashboard(api_key, dashboard_name):\n",
    "    payload = {\n",
    "        'name': dashboard_name,\n",
    "        'type': 'python_dashboard'\n",
    "    }\n",
    "\n",
    "    r = requests.post(\n",
    "        f'{url}/api/v2/custom-dashboards',\n",
    "        headers={'API-Key': api_key},\n",
    "        json=payload\n",
    "    )\n",
    "\n",
    "    return r.json()"
   ]
  },
  {
   "cell_type": "code",
   "execution_count": null,
   "id": "57d35b08",
   "metadata": {},
   "outputs": [],
   "source": [
    "def get_python_dashboards(api_key):\n",
    "    r = requests.get(\n",
    "        f'{url}/api/v2/custom-dashboards/',\n",
    "        headers={'API-Key': api_key},\n",
    "        )\n",
    "    return r.json()"
   ]
  },
  {
   "cell_type": "code",
   "execution_count": null,
   "id": "60d26ff5",
   "metadata": {},
   "outputs": [],
   "source": [
    "def upload_python_dashboard_app(api_key, dashboard_id, python_dashboard_file):\n",
    "    filetype = 'application/octet-stream'\n",
    "    filename = Path(python_dashboard_file).name\n",
    "\n",
    "    python_app = [\n",
    "        ('file', (filename, open(python_dashboard_file, 'rb'), filetype))\n",
    "    ]\n",
    "\n",
    "    r = requests.post(\n",
    "        f'{url}/api/v2/custom-dashboards/{dashboard_id}/source',\n",
    "        headers={'API-Key': api_key},\n",
    "        files=python_app\n",
    "    )\n",
    "\n",
    "    return r"
   ]
  },
  {
   "cell_type": "code",
   "execution_count": null,
   "id": "f6100247",
   "metadata": {},
   "outputs": [],
   "source": [
    "def connect_dashboard_app_to_log(api_key, log_id, dashboard_id):\n",
    "    payload = {\n",
    "        'log_id': log_id,\n",
    "        'custom_dashboard_id': dashboard_id\n",
    "    }\n",
    "\n",
    "    r = requests.post(\n",
    "        f'{url}/api/v2/resource-connections',\n",
    "        headers={'API-Key': api_key},\n",
    "        json=payload\n",
    "    )\n",
    "\n",
    "    return r.json()"
   ]
  },
  {
   "cell_type": "code",
   "execution_count": null,
   "id": "7c7ad7b1",
   "metadata": {},
   "outputs": [],
   "source": [
    "connect_dashboard_app_to_log(api_key, log_id, dashboard_id)"
   ]
  },
  {
   "cell_type": "markdown",
   "id": "bc42111c",
   "metadata": {},
   "source": [
    "## Uploading new  Python-Dashboard"
   ]
  },
  {
   "cell_type": "code",
   "execution_count": null,
   "id": "17dc663a",
   "metadata": {},
   "outputs": [],
   "source": [
    "log_id = \"\"\n",
    "dashboard_name = \"\"\n",
    "python_dashboard_file = \"\"\n",
    "\n",
    "dashboard_info = create_custom_python_dashboard(api_key, dashboard_name)\n",
    "dashboard_id = dashboard_info[\"id\"]\n",
    "print(f\"Dashboard_id: {dashboard_id}\")\n",
    "\n",
    "c = upload_python_dashboard_app(api_key, dashboard_id, python_dashboard_file)\n",
    "print(c)\n",
    "\n",
    "connect_dashboard_app_to_log(api_key, log_id, dashboard_id)"
   ]
  },
  {
   "cell_type": "code",
   "execution_count": null,
   "id": "e757f3fa",
   "metadata": {},
   "outputs": [],
   "source": [
    "get_python_dashboards(api_key)"
   ]
  },
  {
   "cell_type": "markdown",
   "id": "a1f9feaa",
   "metadata": {},
   "source": [
    "## Updating the Python-Dashboard via Upload"
   ]
  },
  {
   "cell_type": "code",
   "execution_count": null,
   "id": "1e6bf3bb",
   "metadata": {},
   "outputs": [],
   "source": [
    "python_dashboard_file = \"\"\n",
    "dashboard_id = ''\n",
    "\n",
    "c = upload_python_dashboard_app(api_key, dashboard_id, python_dashboard_file)\n",
    "c"
   ]
  },
  {
   "cell_type": "markdown",
   "id": "db410a4e",
   "metadata": {},
   "source": [
    "## Changing the dashboard via command line (local only)"
   ]
  },
  {
   "cell_type": "markdown",
   "id": "d6ad2d4e",
   "metadata": {},
   "source": [
    "- go to mining/runtime_data/janus/.python_notebooks/\n",
    "- enter the folder of your application\n",
    "- change the files that need to be changed\n",
    "- go back 1 folder\n",
    "- enter vassals\n",
    "- update the file <dashboard_id>.ini"
   ]
  },
  {
   "cell_type": "markdown",
   "id": "cad252df",
   "metadata": {},
   "source": [
    "## Getting the Log-id"
   ]
  },
  {
   "cell_type": "code",
   "execution_count": null,
   "id": "af458d53",
   "metadata": {},
   "outputs": [],
   "source": [
    "api = pylana.create_api(**{\n",
    "\"scheme\": scheme,\n",
    "\"host\": host,\n",
    "\"token\": api_key\n",
    "})\n",
    "\n",
    "log_name = \"m2c_events.csv\"\n",
    "api.get_log_ids(\"m2c_events.csv\")"
   ]
  }
 ],
 "metadata": {
  "kernelspec": {
   "display_name": "Python 3",
   "language": "python",
   "name": "python3"
  },
  "language_info": {
   "codemirror_mode": {
    "name": "ipython",
    "version": 3
   },
   "file_extension": ".py",
   "mimetype": "text/x-python",
   "name": "python",
   "nbconvert_exporter": "python",
   "pygments_lexer": "ipython3",
   "version": "3.9.5"
  }
 },
 "nbformat": 4,
 "nbformat_minor": 5
}
